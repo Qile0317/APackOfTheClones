{
 "cells": [
  {
   "attachments": {},
   "cell_type": "markdown",
   "metadata": {},
   "source": [
    "5 spooky twigs\n",
    "2 brooms\n",
    "2 spooky hooks\n",
    "3 cursed saplings\n",
    "1 stake launcher\n",
    "0 necromantic scroll"
   ]
  },
  {
   "cell_type": "code",
   "execution_count": 10,
   "metadata": {},
   "outputs": [
    {
     "data": {
      "text/plain": [
       "0.16666666666666666"
      ]
     },
     "metadata": {},
     "output_type": "display_data"
    }
   ],
   "source": [
    "n = 14\n",
    "p = 1/6"
   ]
  },
  {
   "cell_type": "code",
   "execution_count": 11,
   "metadata": {},
   "outputs": [
    {
     "data": {
      "text/plain": [
       "15-element Vector{Float64}:\n",
       " 0.07788656582264941\n",
       " 0.21808238430341834\n",
       " 0.2835070995944438\n",
       " 0.22680567967555504\n",
       " 0.12474312382155525\n",
       " 0.049897249528622095\n",
       " 0.014969174858586627\n",
       " 0.0034215256819626573\n",
       " 0.000598766994343465\n",
       " 7.983559924579532e-5\n",
       " 7.98355992457953e-6\n",
       " 5.806225399694203e-7\n",
       " 2.9031126998471014e-8\n",
       " 8.932654461068004e-10\n",
       " 1.276093494438286e-11"
      ]
     },
     "metadata": {},
     "output_type": "display_data"
    }
   ],
   "source": [
    "using Distributions\n",
    "\n",
    "function binompvec(n::Int, p::Float64)\n",
    "    pv = Vector{Float64}(undef, n+1)\n",
    "    if p == 0.0\n",
    "        fill!(pv, 0.0)\n",
    "        pv[1] = 1.0\n",
    "    elseif p == 1.0\n",
    "        fill!(pv, 0.0)\n",
    "        pv[n+1] = 1.0\n",
    "    else\n",
    "        q = 1.0 - p\n",
    "        a = p / q\n",
    "        @inbounds pv[1] = pk = q ^ n\n",
    "        for k = 1:n\n",
    "            @inbounds pv[k+1] = (pk *= ((n - k + 1) / k) * a)\n",
    "\n",
    "        end\n",
    "    end\n",
    "    return pv\n",
    "end\n",
    "\n",
    "output = binompvec(n, p)"
   ]
  },
  {
   "cell_type": "code",
   "execution_count": 12,
   "metadata": {},
   "outputs": [
    {
     "data": {
      "image/png": "[encoded data removed]",
      "image/svg+xml": "<?xml version=\"1.0\" encoding=\"utf-8\"?>\n<svg xmlns=\"http://www.w3.org/2000/svg\" xmlns:xlink=\"http://www.w3.org/1999/xlink\" width=\"600\" height=\"400\" viewBox=\"0 0 2400 1600\">\n<defs>\n  <clipPath id=\"clip930\">\n    <rect x=\"0\" y=\"0\" width=\"2400\" height=\"1600\"/>\n  </clipPath>\n</defs>\n<path clip-path=\"url(#clip930)\" d=\"\nM0 1600 L2400 1600 L2400 0 L0 0  Z\n  \" fill=\"#ffffff\" fill-rule=\"evenodd\" fill-opacity=\"1\"/>\n<defs>\n  <clipPath id=\"clip931\">\n    <rect x=\"480\" y=\"0\" width=\"1681\" height=\"1600\"/>\n  </clipPath>\n</defs>\n<path clip-path=\"url(#clip930)\" d=\"\nM140.696 1486.45 L2352.76 1486.45 L2352.76 47.2441 L140.696 47.2441  Z\n  \" fill=\"#ffffff\" fill-rule=\"evenodd\" fill-opacity=\"1\"/>\n<defs>\n  <clipPath id=\"clip932\">\n    <rect x=\"140\" y=\"47\" width=\"2213\" height=\"1440\"/>\n  </clipPath>\n</defs>\n<polyline clip-path=\"url(#clip932)\" style=\"stroke:#000000; stroke-linecap:round; stroke-linejoin:round; stroke-width:2; stroke-opacity:0.1; fill:none\" points=\"\n  182.55,1486.45 182.55,47.2441 \n  \"/>\n<polyline clip-path=\"url(#clip932)\" style=\"stroke:#000000; stroke-linecap:round; stroke-linejoin:round; stroke-width:2; stroke-opacity:0.1; fill:none\" points=\"\n  847.66,1486.45 847.66,47.2441 \n  \"/>\n<polyline clip-path=\"url(#clip932)\" style=\"stroke:#000000; stroke-linecap:round; stroke-linejoin:round; stroke-width:2; stroke-opacity:0.1; fill:none\" points=\"\n  1512.77,1486.45 1512.77,47.2441 \n  \"/>\n<polyline clip-path=\"url(#clip932)\" style=\"stroke:#000000; stroke-linecap:round; stroke-linejoin:round; stroke-width:2; stroke-opacity:0.1; fill:none\" points=\"\n  2177.88,1486.45 2177.88,47.2441 \n  \"/>\n<polyline clip-path=\"url(#clip930)\" style=\"stroke:#000000; stroke-linecap:round; stroke-linejoin:round; stroke-width:4; stroke-opacity:1; fill:none\" points=\"\n  140.696,1486.45 2352.76,1486.45 \n  \"/>\n<polyline clip-path=\"url(#clip930)\" style=\"stroke:#000000; stroke-linecap:round; stroke-linejoin:round; stroke-width:4; stroke-opacity:1; fill:none\" points=\"\n  182.55,1486.45 182.55,1467.55 \n  \"/>\n<polyline clip-path=\"url(#clip930)\" style=\"stroke:#000000; stroke-linecap:round; stroke-linejoin:round; stroke-width:4; stroke-opacity:1; fill:none\" points=\"\n  847.66,1486.45 847.66,1467.55 \n  \"/>\n<polyline clip-path=\"url(#clip930)\" style=\"stroke:#000000; stroke-linecap:round; stroke-linejoin:round; stroke-width:4; stroke-opacity:1; fill:none\" points=\"\n  1512.77,1486.45 1512.77,1467.55 \n  \"/>\n<polyline clip-path=\"url(#clip930)\" style=\"stroke:#000000; stroke-linecap:round; stroke-linejoin:round; stroke-width:4; stroke-opacity:1; fill:none\" points=\"\n  2177.88,1486.45 2177.88,1467.55 \n  \"/>\n<path clip-path=\"url(#clip930)\" d=\"M182.55 1517.37 Q178.938 1517.37 177.11 1520.93 Q175.304 1524.47 175.304 1531.6 Q175.304 1538.71 177.11 1542.27 Q178.938 1545.82 182.55 1545.82 Q186.184 1545.82 187.989 1542.27 Q189.818 1538.71 189.818 1531.6 Q189.818 1524.47 187.989 1520.93 Q186.184 1517.37 182.55 1517.37 M182.55 1513.66 Q188.36 1513.66 191.415 1518.27 Q194.494 1522.85 194.494 1531.6 Q194.494 1540.33 191.415 1544.94 Q188.36 1549.52 182.55 1549.52 Q176.739 1549.52 173.661 1544.94 Q170.605 1540.33 170.605 1531.6 Q170.605 1522.85 173.661 1518.27 Q176.739 1513.66 182.55 1513.66 Z\" fill=\"#000000\" fill-rule=\"evenodd\" fill-opacity=\"1\" /><path clip-path=\"url(#clip930)\" d=\"M837.938 1514.29 L856.294 1514.29 L856.294 1518.22 L842.22 1518.22 L842.22 1526.7 Q843.238 1526.35 844.257 1526.19 Q845.275 1526 846.294 1526 Q852.081 1526 855.461 1529.17 Q858.84 1532.34 858.84 1537.76 Q858.84 1543.34 855.368 1546.44 Q851.896 1549.52 845.576 1549.52 Q843.4 1549.52 841.132 1549.15 Q838.887 1548.78 836.479 1548.04 L836.479 1543.34 Q838.562 1544.47 840.785 1545.03 Q843.007 1545.58 845.484 1545.58 Q849.488 1545.58 851.826 1543.48 Q854.164 1541.37 854.164 1537.76 Q854.164 1534.15 851.826 1532.04 Q849.488 1529.94 845.484 1529.94 Q843.609 1529.94 841.734 1530.35 Q839.882 1530.77 837.938 1531.65 L837.938 1514.29 Z\" fill=\"#000000\" fill-rule=\"evenodd\" fill-opacity=\"1\" /><path clip-path=\"url(#clip930)\" d=\"M1487.46 1544.91 L1495.1 1544.91 L1495.1 1518.55 L1486.79 1520.21 L1486.79 1515.95 L1495.05 1514.29 L1499.73 1514.29 L1499.73 1544.91 L1507.36 1544.91 L1507.36 1548.85 L1487.46 1548.85 L1487.46 1544.91 Z\" fill=\"#000000\" fill-rule=\"evenodd\" fill-opacity=\"1\" /><path clip-path=\"url(#clip930)\" d=\"M1526.81 1517.37 Q1523.2 1517.37 1521.37 1520.93 Q1519.56 1524.47 1519.56 1531.6 Q1519.56 1538.71 1521.37 1542.27 Q1523.2 1545.82 1526.81 1545.82 Q1530.44 1545.82 1532.25 1542.27 Q1534.08 1538.71 1534.08 1531.6 Q1534.08 1524.47 1532.25 1520.93 Q1530.44 1517.37 1526.81 1517.37 M1526.81 1513.66 Q1532.62 1513.66 1535.67 1518.27 Q1538.75 1522.85 1538.75 1531.6 Q1538.75 1540.33 1535.67 1544.94 Q1532.62 1549.52 1526.81 1549.52 Q1521 1549.52 1517.92 1544.94 Q1514.86 1540.33 1514.86 1531.6 Q1514.86 1522.85 1517.92 1518.27 Q1521 1513.66 1526.81 1513.66 Z\" fill=\"#000000\" fill-rule=\"evenodd\" fill-opacity=\"1\" /><path clip-path=\"url(#clip930)\" d=\"M2153.07 1544.91 L2160.7 1544.91 L2160.7 1518.55 L2152.39 1520.21 L2152.39 1515.95 L2160.66 1514.29 L2165.33 1514.29 L2165.33 1544.91 L2172.97 1544.91 L2172.97 1548.85 L2153.07 1548.85 L2153.07 1544.91 Z\" fill=\"#000000\" fill-rule=\"evenodd\" fill-opacity=\"1\" /><path clip-path=\"url(#clip930)\" d=\"M2182.46 1514.29 L2200.82 1514.29 L2200.82 1518.22 L2186.75 1518.22 L2186.75 1526.7 Q2187.76 1526.35 2188.78 1526.19 Q2189.8 1526 2190.82 1526 Q2196.61 1526 2199.99 1529.17 Q2203.37 1532.34 2203.37 1537.76 Q2203.37 1543.34 2199.89 1546.44 Q2196.42 1549.52 2190.1 1549.52 Q2187.93 1549.52 2185.66 1549.15 Q2183.41 1548.78 2181 1548.04 L2181 1543.34 Q2183.09 1544.47 2185.31 1545.03 Q2187.53 1545.58 2190.01 1545.58 Q2194.01 1545.58 2196.35 1543.48 Q2198.69 1541.37 2198.69 1537.76 Q2198.69 1534.15 2196.35 1532.04 Q2194.01 1529.94 2190.01 1529.94 Q2188.13 1529.94 2186.26 1530.35 Q2184.41 1530.77 2182.46 1531.65 L2182.46 1514.29 Z\" fill=\"#000000\" fill-rule=\"evenodd\" fill-opacity=\"1\" /><polyline clip-path=\"url(#clip932)\" style=\"stroke:#000000; stroke-linecap:round; stroke-linejoin:round; stroke-width:2; stroke-opacity:0.1; fill:none\" points=\"\n  140.696,1445.72 2352.76,1445.72 \n  \"/>\n<polyline clip-path=\"url(#clip932)\" style=\"stroke:#000000; stroke-linecap:round; stroke-linejoin:round; stroke-width:2; stroke-opacity:0.1; fill:none\" points=\"\n  140.696,1206.26 2352.76,1206.26 \n  \"/>\n<polyline clip-path=\"url(#clip932)\" style=\"stroke:#000000; stroke-linecap:round; stroke-linejoin:round; stroke-width:2; stroke-opacity:0.1; fill:none\" points=\"\n  140.696,966.807 2352.76,966.807 \n  \"/>\n<polyline clip-path=\"url(#clip932)\" style=\"stroke:#000000; stroke-linecap:round; stroke-linejoin:round; stroke-width:2; stroke-opacity:0.1; fill:none\" points=\"\n  140.696,727.353 2352.76,727.353 \n  \"/>\n<polyline clip-path=\"url(#clip932)\" style=\"stroke:#000000; stroke-linecap:round; stroke-linejoin:round; stroke-width:2; stroke-opacity:0.1; fill:none\" points=\"\n  140.696,487.899 2352.76,487.899 \n  \"/>\n<polyline clip-path=\"url(#clip932)\" style=\"stroke:#000000; stroke-linecap:round; stroke-linejoin:round; stroke-width:2; stroke-opacity:0.1; fill:none\" points=\"\n  140.696,248.445 2352.76,248.445 \n  \"/>\n<polyline clip-path=\"url(#clip930)\" style=\"stroke:#000000; stroke-linecap:round; stroke-linejoin:round; stroke-width:4; stroke-opacity:1; fill:none\" points=\"\n  140.696,1486.45 140.696,47.2441 \n  \"/>\n<polyline clip-path=\"url(#clip930)\" style=\"stroke:#000000; stroke-linecap:round; stroke-linejoin:round; stroke-width:4; stroke-opacity:1; fill:none\" points=\"\n  140.696,1445.72 159.593,1445.72 \n  \"/>\n<polyline clip-path=\"url(#clip930)\" style=\"stroke:#000000; stroke-linecap:round; stroke-linejoin:round; stroke-width:4; stroke-opacity:1; fill:none\" points=\"\n  140.696,1206.26 159.593,1206.26 \n  \"/>\n<polyline clip-path=\"url(#clip930)\" style=\"stroke:#000000; stroke-linecap:round; stroke-linejoin:round; stroke-width:4; stroke-opacity:1; fill:none\" points=\"\n  140.696,966.807 159.593,966.807 \n  \"/>\n<polyline clip-path=\"url(#clip930)\" style=\"stroke:#000000; stroke-linecap:round; stroke-linejoin:round; stroke-width:4; stroke-opacity:1; fill:none\" points=\"\n  140.696,727.353 159.593,727.353 \n  \"/>\n<polyline clip-path=\"url(#clip930)\" style=\"stroke:#000000; stroke-linecap:round; stroke-linejoin:round; stroke-width:4; stroke-opacity:1; fill:none\" points=\"\n  140.696,487.899 159.593,487.899 \n  \"/>\n<polyline clip-path=\"url(#clip930)\" style=\"stroke:#000000; stroke-linecap:round; stroke-linejoin:round; stroke-width:4; stroke-opacity:1; fill:none\" points=\"\n  140.696,248.445 159.593,248.445 \n  \"/>\n<path clip-path=\"url(#clip930)\" d=\"M92.7512 1431.51 Q89.1401 1431.51 87.3114 1435.08 Q85.5058 1438.62 85.5058 1445.75 Q85.5058 1452.86 87.3114 1456.42 Q89.1401 1459.96 92.7512 1459.96 Q96.3854 1459.96 98.1909 1456.42 Q100.02 1452.86 100.02 1445.75 Q100.02 1438.62 98.1909 1435.08 Q96.3854 1431.51 92.7512 1431.51 M92.7512 1427.81 Q98.5613 1427.81 101.617 1432.42 Q104.696 1437 104.696 1445.75 Q104.696 1454.48 101.617 1459.08 Q98.5613 1463.67 92.7512 1463.67 Q86.941 1463.67 83.8623 1459.08 Q80.8068 1454.48 80.8068 1445.75 Q80.8068 1437 83.8623 1432.42 Q86.941 1427.81 92.7512 1427.81 Z\" fill=\"#000000\" fill-rule=\"evenodd\" fill-opacity=\"1\" /><path clip-path=\"url(#clip930)\" d=\"M83.7929 1188.98 L102.149 1188.98 L102.149 1192.92 L88.0753 1192.92 L88.0753 1201.39 Q89.0938 1201.04 90.1123 1200.88 Q91.1308 1200.69 92.1493 1200.69 Q97.9363 1200.69 101.316 1203.87 Q104.696 1207.04 104.696 1212.45 Q104.696 1218.03 101.223 1221.13 Q97.7511 1224.21 91.4317 1224.21 Q89.2558 1224.21 86.9873 1223.84 Q84.7419 1223.47 82.3346 1222.73 L82.3346 1218.03 Q84.4179 1219.17 86.6401 1219.72 Q88.8623 1220.28 91.3391 1220.28 Q95.3437 1220.28 97.6817 1218.17 Q100.02 1216.06 100.02 1212.45 Q100.02 1208.84 97.6817 1206.74 Q95.3437 1204.63 91.3391 1204.63 Q89.4641 1204.63 87.5892 1205.05 Q85.7373 1205.46 83.7929 1206.34 L83.7929 1188.98 Z\" fill=\"#000000\" fill-rule=\"evenodd\" fill-opacity=\"1\" /><path clip-path=\"url(#clip930)\" d=\"M53.3995 980.152 L61.0384 980.152 L61.0384 953.786 L52.7282 955.453 L52.7282 951.194 L60.9921 949.527 L65.668 949.527 L65.668 980.152 L73.3068 980.152 L73.3068 984.087 L53.3995 984.087 L53.3995 980.152 Z\" fill=\"#000000\" fill-rule=\"evenodd\" fill-opacity=\"1\" /><path clip-path=\"url(#clip930)\" d=\"M92.7512 952.606 Q89.1401 952.606 87.3114 956.171 Q85.5058 959.712 85.5058 966.842 Q85.5058 973.948 87.3114 977.513 Q89.1401 981.055 92.7512 981.055 Q96.3854 981.055 98.1909 977.513 Q100.02 973.948 100.02 966.842 Q100.02 959.712 98.1909 956.171 Q96.3854 952.606 92.7512 952.606 M92.7512 948.902 Q98.5613 948.902 101.617 953.509 Q104.696 958.092 104.696 966.842 Q104.696 975.569 101.617 980.175 Q98.5613 984.759 92.7512 984.759 Q86.941 984.759 83.8623 980.175 Q80.8068 975.569 80.8068 966.842 Q80.8068 958.092 83.8623 953.509 Q86.941 948.902 92.7512 948.902 Z\" fill=\"#000000\" fill-rule=\"evenodd\" fill-opacity=\"1\" /><path clip-path=\"url(#clip930)\" d=\"M54.3949 740.698 L62.0337 740.698 L62.0337 714.332 L53.7236 715.999 L53.7236 711.74 L61.9874 710.073 L66.6633 710.073 L66.6633 740.698 L74.3022 740.698 L74.3022 744.633 L54.3949 744.633 L54.3949 740.698 Z\" fill=\"#000000\" fill-rule=\"evenodd\" fill-opacity=\"1\" /><path clip-path=\"url(#clip930)\" d=\"M83.7929 710.073 L102.149 710.073 L102.149 714.008 L88.0753 714.008 L88.0753 722.48 Q89.0938 722.133 90.1123 721.971 Q91.1308 721.786 92.1493 721.786 Q97.9363 721.786 101.316 724.957 Q104.696 728.128 104.696 733.545 Q104.696 739.124 101.223 742.226 Q97.7511 745.304 91.4317 745.304 Q89.2558 745.304 86.9873 744.934 Q84.7419 744.564 82.3346 743.823 L82.3346 739.124 Q84.4179 740.258 86.6401 740.814 Q88.8623 741.369 91.3391 741.369 Q95.3437 741.369 97.6817 739.263 Q100.02 737.156 100.02 733.545 Q100.02 729.934 97.6817 727.828 Q95.3437 725.721 91.3391 725.721 Q89.4641 725.721 87.5892 726.138 Q85.7373 726.554 83.7929 727.434 L83.7929 710.073 Z\" fill=\"#000000\" fill-rule=\"evenodd\" fill-opacity=\"1\" /><path clip-path=\"url(#clip930)\" d=\"M56.6171 501.244 L72.9365 501.244 L72.9365 505.179 L50.9921 505.179 L50.9921 501.244 Q53.6541 498.489 58.2375 493.859 Q62.8439 489.207 64.0245 487.864 Q66.2698 485.341 67.1494 483.605 Q68.0522 481.846 68.0522 480.156 Q68.0522 477.401 66.1078 475.665 Q64.1865 473.929 61.0847 473.929 Q58.8856 473.929 56.4319 474.693 Q54.0014 475.457 51.2236 477.008 L51.2236 472.285 Q54.0477 471.151 56.5014 470.573 Q58.955 469.994 60.9921 469.994 Q66.3624 469.994 69.5568 472.679 Q72.7513 475.364 72.7513 479.855 Q72.7513 481.985 71.9411 483.906 Q71.1541 485.804 69.0476 488.397 Q68.4689 489.068 65.367 492.285 Q62.2652 495.48 56.6171 501.244 Z\" fill=\"#000000\" fill-rule=\"evenodd\" fill-opacity=\"1\" /><path clip-path=\"url(#clip930)\" d=\"M92.7512 473.698 Q89.1401 473.698 87.3114 477.262 Q85.5058 480.804 85.5058 487.934 Q85.5058 495.04 87.3114 498.605 Q89.1401 502.146 92.7512 502.146 Q96.3854 502.146 98.1909 498.605 Q100.02 495.04 100.02 487.934 Q100.02 480.804 98.1909 477.262 Q96.3854 473.698 92.7512 473.698 M92.7512 469.994 Q98.5613 469.994 101.617 474.6 Q104.696 479.184 104.696 487.934 Q104.696 496.66 101.617 501.267 Q98.5613 505.85 92.7512 505.85 Q86.941 505.85 83.8623 501.267 Q80.8068 496.66 80.8068 487.934 Q80.8068 479.184 83.8623 474.6 Q86.941 469.994 92.7512 469.994 Z\" fill=\"#000000\" fill-rule=\"evenodd\" fill-opacity=\"1\" /><path clip-path=\"url(#clip930)\" d=\"M57.6125 261.789 L73.9318 261.789 L73.9318 265.725 L51.9875 265.725 L51.9875 261.789 Q54.6495 259.035 59.2328 254.405 Q63.8393 249.752 65.0198 248.41 Q67.2652 245.887 68.1448 244.151 Q69.0476 242.391 69.0476 240.702 Q69.0476 237.947 67.1032 236.211 Q65.1819 234.475 62.08 234.475 Q59.881 234.475 57.4273 235.239 Q54.9967 236.003 52.219 237.553 L52.219 232.831 Q55.043 231.697 57.4967 231.118 Q59.9504 230.54 61.9874 230.54 Q67.3578 230.54 70.5522 233.225 Q73.7466 235.91 73.7466 240.401 Q73.7466 242.53 72.9365 244.452 Q72.1494 246.35 70.0429 248.942 Q69.4642 249.614 66.3624 252.831 Q63.2606 256.026 57.6125 261.789 Z\" fill=\"#000000\" fill-rule=\"evenodd\" fill-opacity=\"1\" /><path clip-path=\"url(#clip930)\" d=\"M83.7929 231.165 L102.149 231.165 L102.149 235.1 L88.0753 235.1 L88.0753 243.572 Q89.0938 243.225 90.1123 243.063 Q91.1308 242.878 92.1493 242.878 Q97.9363 242.878 101.316 246.049 Q104.696 249.22 104.696 254.637 Q104.696 260.215 101.223 263.317 Q97.7511 266.396 91.4317 266.396 Q89.2558 266.396 86.9873 266.026 Q84.7419 265.655 82.3346 264.914 L82.3346 260.215 Q84.4179 261.35 86.6401 261.905 Q88.8623 262.461 91.3391 262.461 Q95.3437 262.461 97.6817 260.354 Q100.02 258.248 100.02 254.637 Q100.02 251.026 97.6817 248.919 Q95.3437 246.813 91.3391 246.813 Q89.4641 246.813 87.5892 247.229 Q85.7373 247.646 83.7929 248.526 L83.7929 231.165 Z\" fill=\"#000000\" fill-rule=\"evenodd\" fill-opacity=\"1\" /><path clip-path=\"url(#clip932)\" d=\"\nM262.363 1072.71 L262.363 1445.72 L368.78 1445.72 L368.78 1072.71 L262.363 1072.71 L262.363 1072.71  Z\n  \" fill=\"#009af9\" fill-rule=\"evenodd\" fill-opacity=\"1\"/>\n<polyline clip-path=\"url(#clip932)\" style=\"stroke:#000000; stroke-linecap:round; stroke-linejoin:round; stroke-width:4; stroke-opacity:1; fill:none\" points=\"\n  262.363,1072.71 262.363,1445.72 368.78,1445.72 368.78,1072.71 262.363,1072.71 \n  \"/>\n<path clip-path=\"url(#clip932)\" d=\"\nM395.385 401.301 L395.385 1445.72 L501.802 1445.72 L501.802 401.301 L395.385 401.301 L395.385 401.301  Z\n  \" fill=\"#009af9\" fill-rule=\"evenodd\" fill-opacity=\"1\"/>\n<polyline clip-path=\"url(#clip932)\" style=\"stroke:#000000; stroke-linecap:round; stroke-linejoin:round; stroke-width:4; stroke-opacity:1; fill:none\" points=\"\n  395.385,401.301 395.385,1445.72 501.802,1445.72 501.802,401.301 395.385,401.301 \n  \"/>\n<path clip-path=\"url(#clip932)\" d=\"\nM528.407 87.9763 L528.407 1445.72 L634.824 1445.72 L634.824 87.9763 L528.407 87.9763 L528.407 87.9763  Z\n  \" fill=\"#009af9\" fill-rule=\"evenodd\" fill-opacity=\"1\"/>\n<polyline clip-path=\"url(#clip932)\" style=\"stroke:#000000; stroke-linecap:round; stroke-linejoin:round; stroke-width:4; stroke-opacity:1; fill:none\" points=\"\n  528.407,87.9763 528.407,1445.72 634.824,1445.72 634.824,87.9763 528.407,87.9763 \n  \"/>\n<path clip-path=\"url(#clip932)\" d=\"\nM661.429 359.524 L661.429 1445.72 L767.846 1445.72 L767.846 359.524 L661.429 359.524 L661.429 359.524  Z\n  \" fill=\"#009af9\" fill-rule=\"evenodd\" fill-opacity=\"1\"/>\n<polyline clip-path=\"url(#clip932)\" style=\"stroke:#000000; stroke-linecap:round; stroke-linejoin:round; stroke-width:4; stroke-opacity:1; fill:none\" points=\"\n  661.429,359.524 661.429,1445.72 767.846,1445.72 767.846,359.524 661.429,359.524 \n  \"/>\n<path clip-path=\"url(#clip932)\" d=\"\nM794.451 848.31 L794.451 1445.72 L900.868 1445.72 L900.868 848.31 L794.451 848.31 L794.451 848.31  Z\n  \" fill=\"#009af9\" fill-rule=\"evenodd\" fill-opacity=\"1\"/>\n<polyline clip-path=\"url(#clip932)\" style=\"stroke:#000000; stroke-linecap:round; stroke-linejoin:round; stroke-width:4; stroke-opacity:1; fill:none\" points=\"\n  794.451,848.31 794.451,1445.72 900.868,1445.72 900.868,848.31 794.451,848.31 \n  \"/>\n<path clip-path=\"url(#clip932)\" d=\"\nM927.473 1206.75 L927.473 1445.72 L1033.89 1445.72 L1033.89 1206.75 L927.473 1206.75 L927.473 1206.75  Z\n  \" fill=\"#009af9\" fill-rule=\"evenodd\" fill-opacity=\"1\"/>\n<polyline clip-path=\"url(#clip932)\" style=\"stroke:#000000; stroke-linecap:round; stroke-linejoin:round; stroke-width:4; stroke-opacity:1; fill:none\" points=\"\n  927.473,1206.75 927.473,1445.72 1033.89,1445.72 1033.89,1206.75 927.473,1206.75 \n  \"/>\n<path clip-path=\"url(#clip932)\" d=\"\nM1060.49 1374.03 L1060.49 1445.72 L1166.91 1445.72 L1166.91 1374.03 L1060.49 1374.03 L1060.49 1374.03  Z\n  \" fill=\"#009af9\" fill-rule=\"evenodd\" fill-opacity=\"1\"/>\n<polyline clip-path=\"url(#clip932)\" style=\"stroke:#000000; stroke-linecap:round; stroke-linejoin:round; stroke-width:4; stroke-opacity:1; fill:none\" points=\"\n  1060.49,1374.03 1060.49,1445.72 1166.91,1445.72 1166.91,1374.03 1060.49,1374.03 \n  \"/>\n<path clip-path=\"url(#clip932)\" d=\"\nM1193.52 1429.33 L1193.52 1445.72 L1299.93 1445.72 L1299.93 1429.33 L1193.52 1429.33 L1193.52 1429.33  Z\n  \" fill=\"#009af9\" fill-rule=\"evenodd\" fill-opacity=\"1\"/>\n<polyline clip-path=\"url(#clip932)\" style=\"stroke:#000000; stroke-linecap:round; stroke-linejoin:round; stroke-width:4; stroke-opacity:1; fill:none\" points=\"\n  1193.52,1429.33 1193.52,1445.72 1299.93,1445.72 1299.93,1429.33 1193.52,1429.33 \n  \"/>\n<path clip-path=\"url(#clip932)\" d=\"\nM1326.54 1442.85 L1326.54 1445.72 L1432.96 1445.72 L1432.96 1442.85 L1326.54 1442.85 L1326.54 1442.85  Z\n  \" fill=\"#009af9\" fill-rule=\"evenodd\" fill-opacity=\"1\"/>\n<polyline clip-path=\"url(#clip932)\" style=\"stroke:#000000; stroke-linecap:round; stroke-linejoin:round; stroke-width:4; stroke-opacity:1; fill:none\" points=\"\n  1326.54,1442.85 1326.54,1445.72 1432.96,1445.72 1432.96,1442.85 1326.54,1442.85 \n  \"/>\n<path clip-path=\"url(#clip932)\" d=\"\nM1459.56 1445.33 L1459.56 1445.72 L1565.98 1445.72 L1565.98 1445.33 L1459.56 1445.33 L1459.56 1445.33  Z\n  \" fill=\"#009af9\" fill-rule=\"evenodd\" fill-opacity=\"1\"/>\n<polyline clip-path=\"url(#clip932)\" style=\"stroke:#000000; stroke-linecap:round; stroke-linejoin:round; stroke-width:4; stroke-opacity:1; fill:none\" points=\"\n  1459.56,1445.33 1459.56,1445.72 1565.98,1445.72 1565.98,1445.33 1459.56,1445.33 \n  \"/>\n<path clip-path=\"url(#clip932)\" d=\"\nM1592.58 1445.68 L1592.58 1445.72 L1699 1445.72 L1699 1445.68 L1592.58 1445.68 L1592.58 1445.68  Z\n  \" fill=\"#009af9\" fill-rule=\"evenodd\" fill-opacity=\"1\"/>\n<polyline clip-path=\"url(#clip932)\" style=\"stroke:#000000; stroke-linecap:round; stroke-linejoin:round; stroke-width:4; stroke-opacity:1; fill:none\" points=\"\n  1592.58,1445.68 1592.58,1445.72 1699,1445.72 1699,1445.68 1592.58,1445.68 \n  \"/>\n<path clip-path=\"url(#clip932)\" d=\"\nM1725.6 1445.71 L1725.6 1445.72 L1832.02 1445.72 L1832.02 1445.71 L1725.6 1445.71 L1725.6 1445.71  Z\n  \" fill=\"#009af9\" fill-rule=\"evenodd\" fill-opacity=\"1\"/>\n<polyline clip-path=\"url(#clip932)\" style=\"stroke:#000000; stroke-linecap:round; stroke-linejoin:round; stroke-width:4; stroke-opacity:1; fill:none\" points=\"\n  1725.6,1445.71 1725.6,1445.72 1832.02,1445.72 1832.02,1445.71 1725.6,1445.71 \n  \"/>\n<path clip-path=\"url(#clip932)\" d=\"\nM1858.63 1445.72 L1858.63 1445.72 L1965.04 1445.72 L1965.04 1445.72 L1858.63 1445.72 L1858.63 1445.72  Z\n  \" fill=\"#009af9\" fill-rule=\"evenodd\" fill-opacity=\"1\"/>\n<polyline clip-path=\"url(#clip932)\" style=\"stroke:#000000; stroke-linecap:round; stroke-linejoin:round; stroke-width:4; stroke-opacity:1; fill:none\" points=\"\n  1858.63,1445.72 1858.63,1445.72 1965.04,1445.72 1965.04,1445.72 1858.63,1445.72 \n  \"/>\n<path clip-path=\"url(#clip932)\" d=\"\nM1991.65 1445.72 L1991.65 1445.72 L2098.07 1445.72 L2098.07 1445.72 L1991.65 1445.72 L1991.65 1445.72  Z\n  \" fill=\"#009af9\" fill-rule=\"evenodd\" fill-opacity=\"1\"/>\n<polyline clip-path=\"url(#clip932)\" style=\"stroke:#000000; stroke-linecap:round; stroke-linejoin:round; stroke-width:4; stroke-opacity:1; fill:none\" points=\"\n  1991.65,1445.72 1991.65,1445.72 2098.07,1445.72 2098.07,1445.72 1991.65,1445.72 \n  \"/>\n<path clip-path=\"url(#clip932)\" d=\"\nM2124.67 1445.72 L2124.67 1445.72 L2231.09 1445.72 L2231.09 1445.72 L2124.67 1445.72 L2124.67 1445.72  Z\n  \" fill=\"#009af9\" fill-rule=\"evenodd\" fill-opacity=\"1\"/>\n<polyline clip-path=\"url(#clip932)\" style=\"stroke:#000000; stroke-linecap:round; stroke-linejoin:round; stroke-width:4; stroke-opacity:1; fill:none\" points=\"\n  2124.67,1445.72 2124.67,1445.72 2231.09,1445.72 2231.09,1445.72 2124.67,1445.72 \n  \"/>\n<circle clip-path=\"url(#clip932)\" style=\"fill:#009af9; stroke:none; fill-opacity:0\" cx=\"315.572\" cy=\"1072.71\" r=\"2\"/>\n<circle clip-path=\"url(#clip932)\" style=\"fill:#009af9; stroke:none; fill-opacity:0\" cx=\"448.594\" cy=\"401.301\" r=\"2\"/>\n<circle clip-path=\"url(#clip932)\" style=\"fill:#009af9; stroke:none; fill-opacity:0\" cx=\"581.616\" cy=\"87.9763\" r=\"2\"/>\n<circle clip-path=\"url(#clip932)\" style=\"fill:#009af9; stroke:none; fill-opacity:0\" cx=\"714.638\" cy=\"359.524\" r=\"2\"/>\n<circle clip-path=\"url(#clip932)\" style=\"fill:#009af9; stroke:none; fill-opacity:0\" cx=\"847.66\" cy=\"848.31\" r=\"2\"/>\n<circle clip-path=\"url(#clip932)\" style=\"fill:#009af9; stroke:none; fill-opacity:0\" cx=\"980.682\" cy=\"1206.75\" r=\"2\"/>\n<circle clip-path=\"url(#clip932)\" style=\"fill:#009af9; stroke:none; fill-opacity:0\" cx=\"1113.7\" cy=\"1374.03\" r=\"2\"/>\n<circle clip-path=\"url(#clip932)\" style=\"fill:#009af9; stroke:none; fill-opacity:0\" cx=\"1246.73\" cy=\"1429.33\" r=\"2\"/>\n<circle clip-path=\"url(#clip932)\" style=\"fill:#009af9; stroke:none; fill-opacity:0\" cx=\"1379.75\" cy=\"1442.85\" r=\"2\"/>\n<circle clip-path=\"url(#clip932)\" style=\"fill:#009af9; stroke:none; fill-opacity:0\" cx=\"1512.77\" cy=\"1445.33\" r=\"2\"/>\n<circle clip-path=\"url(#clip932)\" style=\"fill:#009af9; stroke:none; fill-opacity:0\" cx=\"1645.79\" cy=\"1445.68\" r=\"2\"/>\n<circle clip-path=\"url(#clip932)\" style=\"fill:#009af9; stroke:none; fill-opacity:0\" cx=\"1778.81\" cy=\"1445.71\" r=\"2\"/>\n<circle clip-path=\"url(#clip932)\" style=\"fill:#009af9; stroke:none; fill-opacity:0\" cx=\"1911.84\" cy=\"1445.72\" r=\"2\"/>\n<circle clip-path=\"url(#clip932)\" style=\"fill:#009af9; stroke:none; fill-opacity:0\" cx=\"2044.86\" cy=\"1445.72\" r=\"2\"/>\n<circle clip-path=\"url(#clip932)\" style=\"fill:#009af9; stroke:none; fill-opacity:0\" cx=\"2177.88\" cy=\"1445.72\" r=\"2\"/>\n<path clip-path=\"url(#clip930)\" d=\"\nM2005.38 198.898 L2279.02 198.898 L2279.02 95.2176 L2005.38 95.2176  Z\n  \" fill=\"#ffffff\" fill-rule=\"evenodd\" fill-opacity=\"1\"/>\n<polyline clip-path=\"url(#clip930)\" style=\"stroke:#000000; stroke-linecap:round; stroke-linejoin:round; stroke-width:4; stroke-opacity:1; fill:none\" points=\"\n  2005.38,198.898 2279.02,198.898 2279.02,95.2176 2005.38,95.2176 2005.38,198.898 \n  \"/>\n<path clip-path=\"url(#clip930)\" d=\"\nM2029.96 167.794 L2177.43 167.794 L2177.43 126.322 L2029.96 126.322 L2029.96 167.794  Z\n  \" fill=\"#009af9\" fill-rule=\"evenodd\" fill-opacity=\"1\"/>\n<polyline clip-path=\"url(#clip930)\" style=\"stroke:#000000; stroke-linecap:round; stroke-linejoin:round; stroke-width:4; stroke-opacity:1; fill:none\" points=\"\n  2029.96,167.794 2177.43,167.794 2177.43,126.322 2029.96,126.322 2029.96,167.794 \n  \"/>\n<path clip-path=\"url(#clip930)\" d=\"M2215.85 166.745 Q2214.05 171.375 2212.34 172.787 Q2210.62 174.199 2207.75 174.199 L2204.35 174.199 L2204.35 170.634 L2206.85 170.634 Q2208.61 170.634 2209.58 169.8 Q2210.55 168.967 2211.73 165.865 L2212.5 163.921 L2202.01 138.412 L2206.53 138.412 L2214.63 158.689 L2222.73 138.412 L2227.24 138.412 L2215.85 166.745 Z\" fill=\"#000000\" fill-rule=\"evenodd\" fill-opacity=\"1\" /><path clip-path=\"url(#clip930)\" d=\"M2234.53 160.402 L2242.17 160.402 L2242.17 134.037 L2233.86 135.703 L2233.86 131.444 L2242.13 129.778 L2246.8 129.778 L2246.8 160.402 L2254.44 160.402 L2254.44 164.338 L2234.53 164.338 L2234.53 160.402 Z\" fill=\"#000000\" fill-rule=\"evenodd\" fill-opacity=\"1\" /></svg>\n",
      "text/html": [
       "<?xml version=\"1.0\" encoding=\"utf-8\"?>\n",
       "<svg xmlns=\"http://www.w3.org/2000/svg\" xmlns:xlink=\"http://www.w3.org/1999/xlink\" width=\"600\" height=\"400\" viewBox=\"0 0 2400 1600\">\n",
       "<defs>\n",
       "  <clipPath id=\"clip980\">\n",
       "    <rect x=\"0\" y=\"0\" width=\"2400\" height=\"1600\"/>\n",
       "  </clipPath>\n",
       "</defs>\n",
       "<path clip-path=\"url(#clip980)\" d=\"\n",
       "M0 1600 L2400 1600 L2400 0 L0 0  Z\n",
       "  \" fill=\"#ffffff\" fill-rule=\"evenodd\" fill-opacity=\"1\"/>\n",
       "<defs>\n",
       "  <clipPath id=\"clip981\">\n",
       "    <rect x=\"480\" y=\"0\" width=\"1681\" height=\"1600\"/>\n",
       "  </clipPath>\n",
       "</defs>\n",
       "<path clip-path=\"url(#clip980)\" d=\"\n",
       "M140.696 1486.45 L2352.76 1486.45 L2352.76 47.2441 L140.696 47.2441  Z\n",
       "  \" fill=\"#ffffff\" fill-rule=\"evenodd\" fill-opacity=\"1\"/>\n",
       "<defs>\n",
       "  <clipPath id=\"clip982\">\n",
       "    <rect x=\"140\" y=\"47\" width=\"2213\" height=\"1440\"/>\n",
       "  </clipPath>\n",
       "</defs>\n",
       "<polyline clip-path=\"url(#clip982)\" style=\"stroke:#000000; stroke-linecap:round; stroke-linejoin:round; stroke-width:2; stroke-opacity:0.1; fill:none\" points=\"\n",
       "  182.55,1486.45 182.55,47.2441 \n",
       "  \"/>\n",
       "<polyline clip-path=\"url(#clip982)\" style=\"stroke:#000000; stroke-linecap:round; stroke-linejoin:round; stroke-width:2; stroke-opacity:0.1; fill:none\" points=\"\n",
       "  847.66,1486.45 847.66,47.2441 \n",
       "  \"/>\n",
       "<polyline clip-path=\"url(#clip982)\" style=\"stroke:#000000; stroke-linecap:round; stroke-linejoin:round; stroke-width:2; stroke-opacity:0.1; fill:none\" points=\"\n",
       "  1512.77,1486.45 1512.77,47.2441 \n",
       "  \"/>\n",
       "<polyline clip-path=\"url(#clip982)\" style=\"stroke:#000000; stroke-linecap:round; stroke-linejoin:round; stroke-width:2; stroke-opacity:0.1; fill:none\" points=\"\n",
       "  2177.88,1486.45 2177.88,47.2441 \n",
       "  \"/>\n",
       "<polyline clip-path=\"url(#clip980)\" style=\"stroke:#000000; stroke-linecap:round; stroke-linejoin:round; stroke-width:4; stroke-opacity:1; fill:none\" points=\"\n",
       "  140.696,1486.45 2352.76,1486.45 \n",
       "  \"/>\n",
       "<polyline clip-path=\"url(#clip980)\" style=\"stroke:#000000; stroke-linecap:round; stroke-linejoin:round; stroke-width:4; stroke-opacity:1; fill:none\" points=\"\n",
       "  182.55,1486.45 182.55,1467.55 \n",
       "  \"/>\n",
       "<polyline clip-path=\"url(#clip980)\" style=\"stroke:#000000; stroke-linecap:round; stroke-linejoin:round; stroke-width:4; stroke-opacity:1; fill:none\" points=\"\n",
       "  847.66,1486.45 847.66,1467.55 \n",
       "  \"/>\n",
       "<polyline clip-path=\"url(#clip980)\" style=\"stroke:#000000; stroke-linecap:round; stroke-linejoin:round; stroke-width:4; stroke-opacity:1; fill:none\" points=\"\n",
       "  1512.77,1486.45 1512.77,1467.55 \n",
       "  \"/>\n",
       "<polyline clip-path=\"url(#clip980)\" style=\"stroke:#000000; stroke-linecap:round; stroke-linejoin:round; stroke-width:4; stroke-opacity:1; fill:none\" points=\"\n",
       "  2177.88,1486.45 2177.88,1467.55 \n",
       "  \"/>\n",
       "<path clip-path=\"url(#clip980)\" d=\"M182.55 1517.37 Q178.938 1517.37 177.11 1520.93 Q175.304 1524.47 175.304 1531.6 Q175.304 1538.71 177.11 1542.27 Q178.938 1545.82 182.55 1545.82 Q186.184 1545.82 187.989 1542.27 Q189.818 1538.71 189.818 1531.6 Q189.818 1524.47 187.989 1520.93 Q186.184 1517.37 182.55 1517.37 M182.55 1513.66 Q188.36 1513.66 191.415 1518.27 Q194.494 1522.85 194.494 1531.6 Q194.494 1540.33 191.415 1544.94 Q188.36 1549.52 182.55 1549.52 Q176.739 1549.52 173.661 1544.94 Q170.605 1540.33 170.605 1531.6 Q170.605 1522.85 173.661 1518.27 Q176.739 1513.66 182.55 1513.66 Z\" fill=\"#000000\" fill-rule=\"evenodd\" fill-opacity=\"1\" /><path clip-path=\"url(#clip980)\" d=\"M837.938 1514.29 L856.294 1514.29 L856.294 1518.22 L842.22 1518.22 L842.22 1526.7 Q843.238 1526.35 844.257 1526.19 Q845.275 1526 846.294 1526 Q852.081 1526 855.461 1529.17 Q858.84 1532.34 858.84 1537.76 Q858.84 1543.34 855.368 1546.44 Q851.896 1549.52 845.576 1549.52 Q843.4 1549.52 841.132 1549.15 Q838.887 1548.78 836.479 1548.04 L836.479 1543.34 Q838.562 1544.47 840.785 1545.03 Q843.007 1545.58 845.484 1545.58 Q849.488 1545.58 851.826 1543.48 Q854.164 1541.37 854.164 1537.76 Q854.164 1534.15 851.826 1532.04 Q849.488 1529.94 845.484 1529.94 Q843.609 1529.94 841.734 1530.35 Q839.882 1530.77 837.938 1531.65 L837.938 1514.29 Z\" fill=\"#000000\" fill-rule=\"evenodd\" fill-opacity=\"1\" /><path clip-path=\"url(#clip980)\" d=\"M1487.46 1544.91 L1495.1 1544.91 L1495.1 1518.55 L1486.79 1520.21 L1486.79 1515.95 L1495.05 1514.29 L1499.73 1514.29 L1499.73 1544.91 L1507.36 1544.91 L1507.36 1548.85 L1487.46 1548.85 L1487.46 1544.91 Z\" fill=\"#000000\" fill-rule=\"evenodd\" fill-opacity=\"1\" /><path clip-path=\"url(#clip980)\" d=\"M1526.81 1517.37 Q1523.2 1517.37 1521.37 1520.93 Q1519.56 1524.47 1519.56 1531.6 Q1519.56 1538.71 1521.37 1542.27 Q1523.2 1545.82 1526.81 1545.82 Q1530.44 1545.82 1532.25 1542.27 Q1534.08 1538.71 1534.08 1531.6 Q1534.08 1524.47 1532.25 1520.93 Q1530.44 1517.37 1526.81 1517.37 M1526.81 1513.66 Q1532.62 1513.66 1535.67 1518.27 Q1538.75 1522.85 1538.75 1531.6 Q1538.75 1540.33 1535.67 1544.94 Q1532.62 1549.52 1526.81 1549.52 Q1521 1549.52 1517.92 1544.94 Q1514.86 1540.33 1514.86 1531.6 Q1514.86 1522.85 1517.92 1518.27 Q1521 1513.66 1526.81 1513.66 Z\" fill=\"#000000\" fill-rule=\"evenodd\" fill-opacity=\"1\" /><path clip-path=\"url(#clip980)\" d=\"M2153.07 1544.91 L2160.7 1544.91 L2160.7 1518.55 L2152.39 1520.21 L2152.39 1515.95 L2160.66 1514.29 L2165.33 1514.29 L2165.33 1544.91 L2172.97 1544.91 L2172.97 1548.85 L2153.07 1548.85 L2153.07 1544.91 Z\" fill=\"#000000\" fill-rule=\"evenodd\" fill-opacity=\"1\" /><path clip-path=\"url(#clip980)\" d=\"M2182.46 1514.29 L2200.82 1514.29 L2200.82 1518.22 L2186.75 1518.22 L2186.75 1526.7 Q2187.76 1526.35 2188.78 1526.19 Q2189.8 1526 2190.82 1526 Q2196.61 1526 2199.99 1529.17 Q2203.37 1532.34 2203.37 1537.76 Q2203.37 1543.34 2199.89 1546.44 Q2196.42 1549.52 2190.1 1549.52 Q2187.93 1549.52 2185.66 1549.15 Q2183.41 1548.78 2181 1548.04 L2181 1543.34 Q2183.09 1544.47 2185.31 1545.03 Q2187.53 1545.58 2190.01 1545.58 Q2194.01 1545.58 2196.35 1543.48 Q2198.69 1541.37 2198.69 1537.76 Q2198.69 1534.15 2196.35 1532.04 Q2194.01 1529.94 2190.01 1529.94 Q2188.13 1529.94 2186.26 1530.35 Q2184.41 1530.77 2182.46 1531.65 L2182.46 1514.29 Z\" fill=\"#000000\" fill-rule=\"evenodd\" fill-opacity=\"1\" /><polyline clip-path=\"url(#clip982)\" style=\"stroke:#000000; stroke-linecap:round; stroke-linejoin:round; stroke-width:2; stroke-opacity:0.1; fill:none\" points=\"\n",
       "  140.696,1445.72 2352.76,1445.72 \n",
       "  \"/>\n",
       "<polyline clip-path=\"url(#clip982)\" style=\"stroke:#000000; stroke-linecap:round; stroke-linejoin:round; stroke-width:2; stroke-opacity:0.1; fill:none\" points=\"\n",
       "  140.696,1206.26 2352.76,1206.26 \n",
       "  \"/>\n",
       "<polyline clip-path=\"url(#clip982)\" style=\"stroke:#000000; stroke-linecap:round; stroke-linejoin:round; stroke-width:2; stroke-opacity:0.1; fill:none\" points=\"\n",
       "  140.696,966.807 2352.76,966.807 \n",
       "  \"/>\n",
       "<polyline clip-path=\"url(#clip982)\" style=\"stroke:#000000; stroke-linecap:round; stroke-linejoin:round; stroke-width:2; stroke-opacity:0.1; fill:none\" points=\"\n",
       "  140.696,727.353 2352.76,727.353 \n",
       "  \"/>\n",
       "<polyline clip-path=\"url(#clip982)\" style=\"stroke:#000000; stroke-linecap:round; stroke-linejoin:round; stroke-width:2; stroke-opacity:0.1; fill:none\" points=\"\n",
       "  140.696,487.899 2352.76,487.899 \n",
       "  \"/>\n",
       "<polyline clip-path=\"url(#clip982)\" style=\"stroke:#000000; stroke-linecap:round; stroke-linejoin:round; stroke-width:2; stroke-opacity:0.1; fill:none\" points=\"\n",
       "  140.696,248.445 2352.76,248.445 \n",
       "  \"/>\n",
       "<polyline clip-path=\"url(#clip980)\" style=\"stroke:#000000; stroke-linecap:round; stroke-linejoin:round; stroke-width:4; stroke-opacity:1; fill:none\" points=\"\n",
       "  140.696,1486.45 140.696,47.2441 \n",
       "  \"/>\n",
       "<polyline clip-path=\"url(#clip980)\" style=\"stroke:#000000; stroke-linecap:round; stroke-linejoin:round; stroke-width:4; stroke-opacity:1; fill:none\" points=\"\n",
       "  140.696,1445.72 159.593,1445.72 \n",
       "  \"/>\n",
       "<polyline clip-path=\"url(#clip980)\" style=\"stroke:#000000; stroke-linecap:round; stroke-linejoin:round; stroke-width:4; stroke-opacity:1; fill:none\" points=\"\n",
       "  140.696,1206.26 159.593,1206.26 \n",
       "  \"/>\n",
       "<polyline clip-path=\"url(#clip980)\" style=\"stroke:#000000; stroke-linecap:round; stroke-linejoin:round; stroke-width:4; stroke-opacity:1; fill:none\" points=\"\n",
       "  140.696,966.807 159.593,966.807 \n",
       "  \"/>\n",
       "<polyline clip-path=\"url(#clip980)\" style=\"stroke:#000000; stroke-linecap:round; stroke-linejoin:round; stroke-width:4; stroke-opacity:1; fill:none\" points=\"\n",
       "  140.696,727.353 159.593,727.353 \n",
       "  \"/>\n",
       "<polyline clip-path=\"url(#clip980)\" style=\"stroke:#000000; stroke-linecap:round; stroke-linejoin:round; stroke-width:4; stroke-opacity:1; fill:none\" points=\"\n",
       "  140.696,487.899 159.593,487.899 \n",
       "  \"/>\n",
       "<polyline clip-path=\"url(#clip980)\" style=\"stroke:#000000; stroke-linecap:round; stroke-linejoin:round; stroke-width:4; stroke-opacity:1; fill:none\" points=\"\n",
       "  140.696,248.445 159.593,248.445 \n",
       "  \"/>\n",
       "<path clip-path=\"url(#clip980)\" d=\"M92.7512 1431.51 Q89.1401 1431.51 87.3114 1435.08 Q85.5058 1438.62 85.5058 1445.75 Q85.5058 1452.86 87.3114 1456.42 Q89.1401 1459.96 92.7512 1459.96 Q96.3854 1459.96 98.1909 1456.42 Q100.02 1452.86 100.02 1445.75 Q100.02 1438.62 98.1909 1435.08 Q96.3854 1431.51 92.7512 1431.51 M92.7512 1427.81 Q98.5613 1427.81 101.617 1432.42 Q104.696 1437 104.696 1445.75 Q104.696 1454.48 101.617 1459.08 Q98.5613 1463.67 92.7512 1463.67 Q86.941 1463.67 83.8623 1459.08 Q80.8068 1454.48 80.8068 1445.75 Q80.8068 1437 83.8623 1432.42 Q86.941 1427.81 92.7512 1427.81 Z\" fill=\"#000000\" fill-rule=\"evenodd\" fill-opacity=\"1\" /><path clip-path=\"url(#clip980)\" d=\"M83.7929 1188.98 L102.149 1188.98 L102.149 1192.92 L88.0753 1192.92 L88.0753 1201.39 Q89.0938 1201.04 90.1123 1200.88 Q91.1308 1200.69 92.1493 1200.69 Q97.9363 1200.69 101.316 1203.87 Q104.696 1207.04 104.696 1212.45 Q104.696 1218.03 101.223 1221.13 Q97.7511 1224.21 91.4317 1224.21 Q89.2558 1224.21 86.9873 1223.84 Q84.7419 1223.47 82.3346 1222.73 L82.3346 1218.03 Q84.4179 1219.17 86.6401 1219.72 Q88.8623 1220.28 91.3391 1220.28 Q95.3437 1220.28 97.6817 1218.17 Q100.02 1216.06 100.02 1212.45 Q100.02 1208.84 97.6817 1206.74 Q95.3437 1204.63 91.3391 1204.63 Q89.4641 1204.63 87.5892 1205.05 Q85.7373 1205.46 83.7929 1206.34 L83.7929 1188.98 Z\" fill=\"#000000\" fill-rule=\"evenodd\" fill-opacity=\"1\" /><path clip-path=\"url(#clip980)\" d=\"M53.3995 980.152 L61.0384 980.152 L61.0384 953.786 L52.7282 955.453 L52.7282 951.194 L60.9921 949.527 L65.668 949.527 L65.668 980.152 L73.3068 980.152 L73.3068 984.087 L53.3995 984.087 L53.3995 980.152 Z\" fill=\"#000000\" fill-rule=\"evenodd\" fill-opacity=\"1\" /><path clip-path=\"url(#clip980)\" d=\"M92.7512 952.606 Q89.1401 952.606 87.3114 956.171 Q85.5058 959.712 85.5058 966.842 Q85.5058 973.948 87.3114 977.513 Q89.1401 981.055 92.7512 981.055 Q96.3854 981.055 98.1909 977.513 Q100.02 973.948 100.02 966.842 Q100.02 959.712 98.1909 956.171 Q96.3854 952.606 92.7512 952.606 M92.7512 948.902 Q98.5613 948.902 101.617 953.509 Q104.696 958.092 104.696 966.842 Q104.696 975.569 101.617 980.175 Q98.5613 984.759 92.7512 984.759 Q86.941 984.759 83.8623 980.175 Q80.8068 975.569 80.8068 966.842 Q80.8068 958.092 83.8623 953.509 Q86.941 948.902 92.7512 948.902 Z\" fill=\"#000000\" fill-rule=\"evenodd\" fill-opacity=\"1\" /><path clip-path=\"url(#clip980)\" d=\"M54.3949 740.698 L62.0337 740.698 L62.0337 714.332 L53.7236 715.999 L53.7236 711.74 L61.9874 710.073 L66.6633 710.073 L66.6633 740.698 L74.3022 740.698 L74.3022 744.633 L54.3949 744.633 L54.3949 740.698 Z\" fill=\"#000000\" fill-rule=\"evenodd\" fill-opacity=\"1\" /><path clip-path=\"url(#clip980)\" d=\"M83.7929 710.073 L102.149 710.073 L102.149 714.008 L88.0753 714.008 L88.0753 722.48 Q89.0938 722.133 90.1123 721.971 Q91.1308 721.786 92.1493 721.786 Q97.9363 721.786 101.316 724.957 Q104.696 728.128 104.696 733.545 Q104.696 739.124 101.223 742.226 Q97.7511 745.304 91.4317 745.304 Q89.2558 745.304 86.9873 744.934 Q84.7419 744.564 82.3346 743.823 L82.3346 739.124 Q84.4179 740.258 86.6401 740.814 Q88.8623 741.369 91.3391 741.369 Q95.3437 741.369 97.6817 739.263 Q100.02 737.156 100.02 733.545 Q100.02 729.934 97.6817 727.828 Q95.3437 725.721 91.3391 725.721 Q89.4641 725.721 87.5892 726.138 Q85.7373 726.554 83.7929 727.434 L83.7929 710.073 Z\" fill=\"#000000\" fill-rule=\"evenodd\" fill-opacity=\"1\" /><path clip-path=\"url(#clip980)\" d=\"M56.6171 501.244 L72.9365 501.244 L72.9365 505.179 L50.9921 505.179 L50.9921 501.244 Q53.6541 498.489 58.2375 493.859 Q62.8439 489.207 64.0245 487.864 Q66.2698 485.341 67.1494 483.605 Q68.0522 481.846 68.0522 480.156 Q68.0522 477.401 66.1078 475.665 Q64.1865 473.929 61.0847 473.929 Q58.8856 473.929 56.4319 474.693 Q54.0014 475.457 51.2236 477.008 L51.2236 472.285 Q54.0477 471.151 56.5014 470.573 Q58.955 469.994 60.9921 469.994 Q66.3624 469.994 69.5568 472.679 Q72.7513 475.364 72.7513 479.855 Q72.7513 481.985 71.9411 483.906 Q71.1541 485.804 69.0476 488.397 Q68.4689 489.068 65.367 492.285 Q62.2652 495.48 56.6171 501.244 Z\" fill=\"#000000\" fill-rule=\"evenodd\" fill-opacity=\"1\" /><path clip-path=\"url(#clip980)\" d=\"M92.7512 473.698 Q89.1401 473.698 87.3114 477.262 Q85.5058 480.804 85.5058 487.934 Q85.5058 495.04 87.3114 498.605 Q89.1401 502.146 92.7512 502.146 Q96.3854 502.146 98.1909 498.605 Q100.02 495.04 100.02 487.934 Q100.02 480.804 98.1909 477.262 Q96.3854 473.698 92.7512 473.698 M92.7512 469.994 Q98.5613 469.994 101.617 474.6 Q104.696 479.184 104.696 487.934 Q104.696 496.66 101.617 501.267 Q98.5613 505.85 92.7512 505.85 Q86.941 505.85 83.8623 501.267 Q80.8068 496.66 80.8068 487.934 Q80.8068 479.184 83.8623 474.6 Q86.941 469.994 92.7512 469.994 Z\" fill=\"#000000\" fill-rule=\"evenodd\" fill-opacity=\"1\" /><path clip-path=\"url(#clip980)\" d=\"M57.6125 261.789 L73.9318 261.789 L73.9318 265.725 L51.9875 265.725 L51.9875 261.789 Q54.6495 259.035 59.2328 254.405 Q63.8393 249.752 65.0198 248.41 Q67.2652 245.887 68.1448 244.151 Q69.0476 242.391 69.0476 240.702 Q69.0476 237.947 67.1032 236.211 Q65.1819 234.475 62.08 234.475 Q59.881 234.475 57.4273 235.239 Q54.9967 236.003 52.219 237.553 L52.219 232.831 Q55.043 231.697 57.4967 231.118 Q59.9504 230.54 61.9874 230.54 Q67.3578 230.54 70.5522 233.225 Q73.7466 235.91 73.7466 240.401 Q73.7466 242.53 72.9365 244.452 Q72.1494 246.35 70.0429 248.942 Q69.4642 249.614 66.3624 252.831 Q63.2606 256.026 57.6125 261.789 Z\" fill=\"#000000\" fill-rule=\"evenodd\" fill-opacity=\"1\" /><path clip-path=\"url(#clip980)\" d=\"M83.7929 231.165 L102.149 231.165 L102.149 235.1 L88.0753 235.1 L88.0753 243.572 Q89.0938 243.225 90.1123 243.063 Q91.1308 242.878 92.1493 242.878 Q97.9363 242.878 101.316 246.049 Q104.696 249.22 104.696 254.637 Q104.696 260.215 101.223 263.317 Q97.7511 266.396 91.4317 266.396 Q89.2558 266.396 86.9873 266.026 Q84.7419 265.655 82.3346 264.914 L82.3346 260.215 Q84.4179 261.35 86.6401 261.905 Q88.8623 262.461 91.3391 262.461 Q95.3437 262.461 97.6817 260.354 Q100.02 258.248 100.02 254.637 Q100.02 251.026 97.6817 248.919 Q95.3437 246.813 91.3391 246.813 Q89.4641 246.813 87.5892 247.229 Q85.7373 247.646 83.7929 248.526 L83.7929 231.165 Z\" fill=\"#000000\" fill-rule=\"evenodd\" fill-opacity=\"1\" /><path clip-path=\"url(#clip982)\" d=\"\n",
       "M262.363 1072.71 L262.363 1445.72 L368.78 1445.72 L368.78 1072.71 L262.363 1072.71 L262.363 1072.71  Z\n",
       "  \" fill=\"#009af9\" fill-rule=\"evenodd\" fill-opacity=\"1\"/>\n",
       "<polyline clip-path=\"url(#clip982)\" style=\"stroke:#000000; stroke-linecap:round; stroke-linejoin:round; stroke-width:4; stroke-opacity:1; fill:none\" points=\"\n",
       "  262.363,1072.71 262.363,1445.72 368.78,1445.72 368.78,1072.71 262.363,1072.71 \n",
       "  \"/>\n",
       "<path clip-path=\"url(#clip982)\" d=\"\n",
       "M395.385 401.301 L395.385 1445.72 L501.802 1445.72 L501.802 401.301 L395.385 401.301 L395.385 401.301  Z\n",
       "  \" fill=\"#009af9\" fill-rule=\"evenodd\" fill-opacity=\"1\"/>\n",
       "<polyline clip-path=\"url(#clip982)\" style=\"stroke:#000000; stroke-linecap:round; stroke-linejoin:round; stroke-width:4; stroke-opacity:1; fill:none\" points=\"\n",
       "  395.385,401.301 395.385,1445.72 501.802,1445.72 501.802,401.301 395.385,401.301 \n",
       "  \"/>\n",
       "<path clip-path=\"url(#clip982)\" d=\"\n",
       "M528.407 87.9763 L528.407 1445.72 L634.824 1445.72 L634.824 87.9763 L528.407 87.9763 L528.407 87.9763  Z\n",
       "  \" fill=\"#009af9\" fill-rule=\"evenodd\" fill-opacity=\"1\"/>\n",
       "<polyline clip-path=\"url(#clip982)\" style=\"stroke:#000000; stroke-linecap:round; stroke-linejoin:round; stroke-width:4; stroke-opacity:1; fill:none\" points=\"\n",
       "  528.407,87.9763 528.407,1445.72 634.824,1445.72 634.824,87.9763 528.407,87.9763 \n",
       "  \"/>\n",
       "<path clip-path=\"url(#clip982)\" d=\"\n",
       "M661.429 359.524 L661.429 1445.72 L767.846 1445.72 L767.846 359.524 L661.429 359.524 L661.429 359.524  Z\n",
       "  \" fill=\"#009af9\" fill-rule=\"evenodd\" fill-opacity=\"1\"/>\n",
       "<polyline clip-path=\"url(#clip982)\" style=\"stroke:#000000; stroke-linecap:round; stroke-linejoin:round; stroke-width:4; stroke-opacity:1; fill:none\" points=\"\n",
       "  661.429,359.524 661.429,1445.72 767.846,1445.72 767.846,359.524 661.429,359.524 \n",
       "  \"/>\n",
       "<path clip-path=\"url(#clip982)\" d=\"\n",
       "M794.451 848.31 L794.451 1445.72 L900.868 1445.72 L900.868 848.31 L794.451 848.31 L794.451 848.31  Z\n",
       "  \" fill=\"#009af9\" fill-rule=\"evenodd\" fill-opacity=\"1\"/>\n",
       "<polyline clip-path=\"url(#clip982)\" style=\"stroke:#000000; stroke-linecap:round; stroke-linejoin:round; stroke-width:4; stroke-opacity:1; fill:none\" points=\"\n",
       "  794.451,848.31 794.451,1445.72 900.868,1445.72 900.868,848.31 794.451,848.31 \n",
       "  \"/>\n",
       "<path clip-path=\"url(#clip982)\" d=\"\n",
       "M927.473 1206.75 L927.473 1445.72 L1033.89 1445.72 L1033.89 1206.75 L927.473 1206.75 L927.473 1206.75  Z\n",
       "  \" fill=\"#009af9\" fill-rule=\"evenodd\" fill-opacity=\"1\"/>\n",
       "<polyline clip-path=\"url(#clip982)\" style=\"stroke:#000000; stroke-linecap:round; stroke-linejoin:round; stroke-width:4; stroke-opacity:1; fill:none\" points=\"\n",
       "  927.473,1206.75 927.473,1445.72 1033.89,1445.72 1033.89,1206.75 927.473,1206.75 \n",
       "  \"/>\n",
       "<path clip-path=\"url(#clip982)\" d=\"\n",
       "M1060.49 1374.03 L1060.49 1445.72 L1166.91 1445.72 L1166.91 1374.03 L1060.49 1374.03 L1060.49 1374.03  Z\n",
       "  \" fill=\"#009af9\" fill-rule=\"evenodd\" fill-opacity=\"1\"/>\n",
       "<polyline clip-path=\"url(#clip982)\" style=\"stroke:#000000; stroke-linecap:round; stroke-linejoin:round; stroke-width:4; stroke-opacity:1; fill:none\" points=\"\n",
       "  1060.49,1374.03 1060.49,1445.72 1166.91,1445.72 1166.91,1374.03 1060.49,1374.03 \n",
       "  \"/>\n",
       "<path clip-path=\"url(#clip982)\" d=\"\n",
       "M1193.52 1429.33 L1193.52 1445.72 L1299.93 1445.72 L1299.93 1429.33 L1193.52 1429.33 L1193.52 1429.33  Z\n",
       "  \" fill=\"#009af9\" fill-rule=\"evenodd\" fill-opacity=\"1\"/>\n",
       "<polyline clip-path=\"url(#clip982)\" style=\"stroke:#000000; stroke-linecap:round; stroke-linejoin:round; stroke-width:4; stroke-opacity:1; fill:none\" points=\"\n",
       "  1193.52,1429.33 1193.52,1445.72 1299.93,1445.72 1299.93,1429.33 1193.52,1429.33 \n",
       "  \"/>\n",
       "<path clip-path=\"url(#clip982)\" d=\"\n",
       "M1326.54 1442.85 L1326.54 1445.72 L1432.96 1445.72 L1432.96 1442.85 L1326.54 1442.85 L1326.54 1442.85  Z\n",
       "  \" fill=\"#009af9\" fill-rule=\"evenodd\" fill-opacity=\"1\"/>\n",
       "<polyline clip-path=\"url(#clip982)\" style=\"stroke:#000000; stroke-linecap:round; stroke-linejoin:round; stroke-width:4; stroke-opacity:1; fill:none\" points=\"\n",
       "  1326.54,1442.85 1326.54,1445.72 1432.96,1445.72 1432.96,1442.85 1326.54,1442.85 \n",
       "  \"/>\n",
       "<path clip-path=\"url(#clip982)\" d=\"\n",
       "M1459.56 1445.33 L1459.56 1445.72 L1565.98 1445.72 L1565.98 1445.33 L1459.56 1445.33 L1459.56 1445.33  Z\n",
       "  \" fill=\"#009af9\" fill-rule=\"evenodd\" fill-opacity=\"1\"/>\n",
       "<polyline clip-path=\"url(#clip982)\" style=\"stroke:#000000; stroke-linecap:round; stroke-linejoin:round; stroke-width:4; stroke-opacity:1; fill:none\" points=\"\n",
       "  1459.56,1445.33 1459.56,1445.72 1565.98,1445.72 1565.98,1445.33 1459.56,1445.33 \n",
       "  \"/>\n",
       "<path clip-path=\"url(#clip982)\" d=\"\n",
       "M1592.58 1445.68 L1592.58 1445.72 L1699 1445.72 L1699 1445.68 L1592.58 1445.68 L1592.58 1445.68  Z\n",
       "  \" fill=\"#009af9\" fill-rule=\"evenodd\" fill-opacity=\"1\"/>\n",
       "<polyline clip-path=\"url(#clip982)\" style=\"stroke:#000000; stroke-linecap:round; stroke-linejoin:round; stroke-width:4; stroke-opacity:1; fill:none\" points=\"\n",
       "  1592.58,1445.68 1592.58,1445.72 1699,1445.72 1699,1445.68 1592.58,1445.68 \n",
       "  \"/>\n",
       "<path clip-path=\"url(#clip982)\" d=\"\n",
       "M1725.6 1445.71 L1725.6 1445.72 L1832.02 1445.72 L1832.02 1445.71 L1725.6 1445.71 L1725.6 1445.71  Z\n",
       "  \" fill=\"#009af9\" fill-rule=\"evenodd\" fill-opacity=\"1\"/>\n",
       "<polyline clip-path=\"url(#clip982)\" style=\"stroke:#000000; stroke-linecap:round; stroke-linejoin:round; stroke-width:4; stroke-opacity:1; fill:none\" points=\"\n",
       "  1725.6,1445.71 1725.6,1445.72 1832.02,1445.72 1832.02,1445.71 1725.6,1445.71 \n",
       "  \"/>\n",
       "<path clip-path=\"url(#clip982)\" d=\"\n",
       "M1858.63 1445.72 L1858.63 1445.72 L1965.04 1445.72 L1965.04 1445.72 L1858.63 1445.72 L1858.63 1445.72  Z\n",
       "  \" fill=\"#009af9\" fill-rule=\"evenodd\" fill-opacity=\"1\"/>\n",
       "<polyline clip-path=\"url(#clip982)\" style=\"stroke:#000000; stroke-linecap:round; stroke-linejoin:round; stroke-width:4; stroke-opacity:1; fill:none\" points=\"\n",
       "  1858.63,1445.72 1858.63,1445.72 1965.04,1445.72 1965.04,1445.72 1858.63,1445.72 \n",
       "  \"/>\n",
       "<path clip-path=\"url(#clip982)\" d=\"\n",
       "M1991.65 1445.72 L1991.65 1445.72 L2098.07 1445.72 L2098.07 1445.72 L1991.65 1445.72 L1991.65 1445.72  Z\n",
       "  \" fill=\"#009af9\" fill-rule=\"evenodd\" fill-opacity=\"1\"/>\n",
       "<polyline clip-path=\"url(#clip982)\" style=\"stroke:#000000; stroke-linecap:round; stroke-linejoin:round; stroke-width:4; stroke-opacity:1; fill:none\" points=\"\n",
       "  1991.65,1445.72 1991.65,1445.72 2098.07,1445.72 2098.07,1445.72 1991.65,1445.72 \n",
       "  \"/>\n",
       "<path clip-path=\"url(#clip982)\" d=\"\n",
       "M2124.67 1445.72 L2124.67 1445.72 L2231.09 1445.72 L2231.09 1445.72 L2124.67 1445.72 L2124.67 1445.72  Z\n",
       "  \" fill=\"#009af9\" fill-rule=\"evenodd\" fill-opacity=\"1\"/>\n",
       "<polyline clip-path=\"url(#clip982)\" style=\"stroke:#000000; stroke-linecap:round; stroke-linejoin:round; stroke-width:4; stroke-opacity:1; fill:none\" points=\"\n",
       "  2124.67,1445.72 2124.67,1445.72 2231.09,1445.72 2231.09,1445.72 2124.67,1445.72 \n",
       "  \"/>\n",
       "<circle clip-path=\"url(#clip982)\" style=\"fill:#009af9; stroke:none; fill-opacity:0\" cx=\"315.572\" cy=\"1072.71\" r=\"2\"/>\n",
       "<circle clip-path=\"url(#clip982)\" style=\"fill:#009af9; stroke:none; fill-opacity:0\" cx=\"448.594\" cy=\"401.301\" r=\"2\"/>\n",
       "<circle clip-path=\"url(#clip982)\" style=\"fill:#009af9; stroke:none; fill-opacity:0\" cx=\"581.616\" cy=\"87.9763\" r=\"2\"/>\n",
       "<circle clip-path=\"url(#clip982)\" style=\"fill:#009af9; stroke:none; fill-opacity:0\" cx=\"714.638\" cy=\"359.524\" r=\"2\"/>\n",
       "<circle clip-path=\"url(#clip982)\" style=\"fill:#009af9; stroke:none; fill-opacity:0\" cx=\"847.66\" cy=\"848.31\" r=\"2\"/>\n",
       "<circle clip-path=\"url(#clip982)\" style=\"fill:#009af9; stroke:none; fill-opacity:0\" cx=\"980.682\" cy=\"1206.75\" r=\"2\"/>\n",
       "<circle clip-path=\"url(#clip982)\" style=\"fill:#009af9; stroke:none; fill-opacity:0\" cx=\"1113.7\" cy=\"1374.03\" r=\"2\"/>\n",
       "<circle clip-path=\"url(#clip982)\" style=\"fill:#009af9; stroke:none; fill-opacity:0\" cx=\"1246.73\" cy=\"1429.33\" r=\"2\"/>\n",
       "<circle clip-path=\"url(#clip982)\" style=\"fill:#009af9; stroke:none; fill-opacity:0\" cx=\"1379.75\" cy=\"1442.85\" r=\"2\"/>\n",
       "<circle clip-path=\"url(#clip982)\" style=\"fill:#009af9; stroke:none; fill-opacity:0\" cx=\"1512.77\" cy=\"1445.33\" r=\"2\"/>\n",
       "<circle clip-path=\"url(#clip982)\" style=\"fill:#009af9; stroke:none; fill-opacity:0\" cx=\"1645.79\" cy=\"1445.68\" r=\"2\"/>\n",
       "<circle clip-path=\"url(#clip982)\" style=\"fill:#009af9; stroke:none; fill-opacity:0\" cx=\"1778.81\" cy=\"1445.71\" r=\"2\"/>\n",
       "<circle clip-path=\"url(#clip982)\" style=\"fill:#009af9; stroke:none; fill-opacity:0\" cx=\"1911.84\" cy=\"1445.72\" r=\"2\"/>\n",
       "<circle clip-path=\"url(#clip982)\" style=\"fill:#009af9; stroke:none; fill-opacity:0\" cx=\"2044.86\" cy=\"1445.72\" r=\"2\"/>\n",
       "<circle clip-path=\"url(#clip982)\" style=\"fill:#009af9; stroke:none; fill-opacity:0\" cx=\"2177.88\" cy=\"1445.72\" r=\"2\"/>\n",
       "<path clip-path=\"url(#clip980)\" d=\"\n",
       "M2005.38 198.898 L2279.02 198.898 L2279.02 95.2176 L2005.38 95.2176  Z\n",
       "  \" fill=\"#ffffff\" fill-rule=\"evenodd\" fill-opacity=\"1\"/>\n",
       "<polyline clip-path=\"url(#clip980)\" style=\"stroke:#000000; stroke-linecap:round; stroke-linejoin:round; stroke-width:4; stroke-opacity:1; fill:none\" points=\"\n",
       "  2005.38,198.898 2279.02,198.898 2279.02,95.2176 2005.38,95.2176 2005.38,198.898 \n",
       "  \"/>\n",
       "<path clip-path=\"url(#clip980)\" d=\"\n",
       "M2029.96 167.794 L2177.43 167.794 L2177.43 126.322 L2029.96 126.322 L2029.96 167.794  Z\n",
       "  \" fill=\"#009af9\" fill-rule=\"evenodd\" fill-opacity=\"1\"/>\n",
       "<polyline clip-path=\"url(#clip980)\" style=\"stroke:#000000; stroke-linecap:round; stroke-linejoin:round; stroke-width:4; stroke-opacity:1; fill:none\" points=\"\n",
       "  2029.96,167.794 2177.43,167.794 2177.43,126.322 2029.96,126.322 2029.96,167.794 \n",
       "  \"/>\n",
       "<path clip-path=\"url(#clip980)\" d=\"M2215.85 166.745 Q2214.05 171.375 2212.34 172.787 Q2210.62 174.199 2207.75 174.199 L2204.35 174.199 L2204.35 170.634 L2206.85 170.634 Q2208.61 170.634 2209.58 169.8 Q2210.55 168.967 2211.73 165.865 L2212.5 163.921 L2202.01 138.412 L2206.53 138.412 L2214.63 158.689 L2222.73 138.412 L2227.24 138.412 L2215.85 166.745 Z\" fill=\"#000000\" fill-rule=\"evenodd\" fill-opacity=\"1\" /><path clip-path=\"url(#clip980)\" d=\"M2234.53 160.402 L2242.17 160.402 L2242.17 134.037 L2233.86 135.703 L2233.86 131.444 L2242.13 129.778 L2246.8 129.778 L2246.8 160.402 L2254.44 160.402 L2254.44 164.338 L2234.53 164.338 L2234.53 160.402 Z\" fill=\"#000000\" fill-rule=\"evenodd\" fill-opacity=\"1\" /></svg>\n"
      ]
     },
     "metadata": {},
     "output_type": "display_data"
    }
   ],
   "source": [
    "using Plots\n",
    "bar(output.*100)"
   ]
  },
  {
   "cell_type": "code",
   "execution_count": 14,
   "metadata": {},
   "outputs": [
    {
     "data": {
      "text/plain": [
       "16-element Vector{Float64}:\n",
       " 0.06490547151887452\n",
       " 0.19471641455662353\n",
       " 0.27260298037927294\n",
       " 0.23625591632870319\n",
       " 0.1417535497972219\n",
       " 0.06237156191077764\n",
       " 0.02079052063692588\n",
       " 0.005346133878066654\n",
       " 0.0010692267756133309\n",
       " 0.00016632416509540702\n",
       " 1.995889981144884e-5\n",
       " 1.8144454374044397e-6\n",
       " 1.2096302916029595e-7\n",
       " 5.582909038167505e-9\n",
       " 1.5951168680478584e-10\n",
       " 2.1268224907304778e-12"
      ]
     },
     "metadata": {},
     "output_type": "display_data"
    }
   ],
   "source": [
    "binompvec(n+1, p)"
   ]
  },
  {
   "cell_type": "code",
   "execution_count": 18,
   "metadata": {},
   "outputs": [
    {
     "data": {
      "text/plain": [
       "0.9221134341773506"
      ]
     },
     "metadata": {},
     "output_type": "display_data"
    }
   ],
   "source": [
    "1-(5/6)^14"
   ]
  }
 ],
 "metadata": {
  "kernelspec": {
   "display_name": "Julia 1.7.2",
   "language": "julia",
   "name": "julia-1.7"
  },
  "language_info": {
   "file_extension": ".jl",
   "mimetype": "application/julia",
   "name": "julia",
   "version": "1.7.2"
  },
  "orig_nbformat": 4,
  "vscode": {
   "interpreter": {
    "hash": "312045ba5e5a6a9a08f4672e5822768f560e43e6c2bacc494642d7a690b8d863"
   }
  }
 },
 "nbformat": 4,
 "nbformat_minor": 2
}
